{
 "cells": [
  {
   "cell_type": "markdown",
   "metadata": {},
   "source": [
    "# Supervised Learning Model Evaluation Lab\n",
    "\n",
    "Complete the exercises below to solidify your knowledge and understanding of supervised learning model evaluation."
   ]
  },
  {
   "cell_type": "code",
   "execution_count": 1,
   "metadata": {},
   "outputs": [],
   "source": [
    "import pandas as pd"
   ]
  },
  {
   "cell_type": "markdown",
   "metadata": {},
   "source": [
    "## Regression Model Evaluation"
   ]
  },
  {
   "cell_type": "code",
   "execution_count": 2,
   "metadata": {},
   "outputs": [
    {
     "data": {
      "text/html": [
       "<div>\n",
       "<style scoped>\n",
       "    .dataframe tbody tr th:only-of-type {\n",
       "        vertical-align: middle;\n",
       "    }\n",
       "\n",
       "    .dataframe tbody tr th {\n",
       "        vertical-align: top;\n",
       "    }\n",
       "\n",
       "    .dataframe thead th {\n",
       "        text-align: right;\n",
       "    }\n",
       "</style>\n",
       "<table border=\"1\" class=\"dataframe\">\n",
       "  <thead>\n",
       "    <tr style=\"text-align: right;\">\n",
       "      <th></th>\n",
       "      <th>CRIM</th>\n",
       "      <th>ZN</th>\n",
       "      <th>INDUS</th>\n",
       "      <th>CHAS</th>\n",
       "      <th>NOX</th>\n",
       "      <th>RM</th>\n",
       "      <th>AGE</th>\n",
       "      <th>DIS</th>\n",
       "      <th>RAD</th>\n",
       "      <th>TAX</th>\n",
       "      <th>PTRATIO</th>\n",
       "      <th>B</th>\n",
       "      <th>LSTAT</th>\n",
       "      <th>MEDV</th>\n",
       "    </tr>\n",
       "  </thead>\n",
       "  <tbody>\n",
       "    <tr>\n",
       "      <th>0</th>\n",
       "      <td>0.00632</td>\n",
       "      <td>18.0</td>\n",
       "      <td>2.31</td>\n",
       "      <td>0.0</td>\n",
       "      <td>0.538</td>\n",
       "      <td>6.575</td>\n",
       "      <td>65.2</td>\n",
       "      <td>4.0900</td>\n",
       "      <td>1.0</td>\n",
       "      <td>296.0</td>\n",
       "      <td>15.3</td>\n",
       "      <td>396.90</td>\n",
       "      <td>4.98</td>\n",
       "      <td>24.0</td>\n",
       "    </tr>\n",
       "    <tr>\n",
       "      <th>1</th>\n",
       "      <td>0.02731</td>\n",
       "      <td>0.0</td>\n",
       "      <td>7.07</td>\n",
       "      <td>0.0</td>\n",
       "      <td>0.469</td>\n",
       "      <td>6.421</td>\n",
       "      <td>78.9</td>\n",
       "      <td>4.9671</td>\n",
       "      <td>2.0</td>\n",
       "      <td>242.0</td>\n",
       "      <td>17.8</td>\n",
       "      <td>396.90</td>\n",
       "      <td>9.14</td>\n",
       "      <td>21.6</td>\n",
       "    </tr>\n",
       "    <tr>\n",
       "      <th>2</th>\n",
       "      <td>0.02729</td>\n",
       "      <td>0.0</td>\n",
       "      <td>7.07</td>\n",
       "      <td>0.0</td>\n",
       "      <td>0.469</td>\n",
       "      <td>7.185</td>\n",
       "      <td>61.1</td>\n",
       "      <td>4.9671</td>\n",
       "      <td>2.0</td>\n",
       "      <td>242.0</td>\n",
       "      <td>17.8</td>\n",
       "      <td>392.83</td>\n",
       "      <td>4.03</td>\n",
       "      <td>34.7</td>\n",
       "    </tr>\n",
       "    <tr>\n",
       "      <th>3</th>\n",
       "      <td>0.03237</td>\n",
       "      <td>0.0</td>\n",
       "      <td>2.18</td>\n",
       "      <td>0.0</td>\n",
       "      <td>0.458</td>\n",
       "      <td>6.998</td>\n",
       "      <td>45.8</td>\n",
       "      <td>6.0622</td>\n",
       "      <td>3.0</td>\n",
       "      <td>222.0</td>\n",
       "      <td>18.7</td>\n",
       "      <td>394.63</td>\n",
       "      <td>2.94</td>\n",
       "      <td>33.4</td>\n",
       "    </tr>\n",
       "    <tr>\n",
       "      <th>4</th>\n",
       "      <td>0.06905</td>\n",
       "      <td>0.0</td>\n",
       "      <td>2.18</td>\n",
       "      <td>0.0</td>\n",
       "      <td>0.458</td>\n",
       "      <td>7.147</td>\n",
       "      <td>54.2</td>\n",
       "      <td>6.0622</td>\n",
       "      <td>3.0</td>\n",
       "      <td>222.0</td>\n",
       "      <td>18.7</td>\n",
       "      <td>396.90</td>\n",
       "      <td>5.33</td>\n",
       "      <td>36.2</td>\n",
       "    </tr>\n",
       "  </tbody>\n",
       "</table>\n",
       "</div>"
      ],
      "text/plain": [
       "      CRIM    ZN  INDUS  CHAS    NOX     RM   AGE     DIS  RAD    TAX  \\\n",
       "0  0.00632  18.0   2.31   0.0  0.538  6.575  65.2  4.0900  1.0  296.0   \n",
       "1  0.02731   0.0   7.07   0.0  0.469  6.421  78.9  4.9671  2.0  242.0   \n",
       "2  0.02729   0.0   7.07   0.0  0.469  7.185  61.1  4.9671  2.0  242.0   \n",
       "3  0.03237   0.0   2.18   0.0  0.458  6.998  45.8  6.0622  3.0  222.0   \n",
       "4  0.06905   0.0   2.18   0.0  0.458  7.147  54.2  6.0622  3.0  222.0   \n",
       "\n",
       "   PTRATIO       B  LSTAT  MEDV  \n",
       "0     15.3  396.90   4.98  24.0  \n",
       "1     17.8  396.90   9.14  21.6  \n",
       "2     17.8  392.83   4.03  34.7  \n",
       "3     18.7  394.63   2.94  33.4  \n",
       "4     18.7  396.90   5.33  36.2  "
      ]
     },
     "execution_count": 2,
     "metadata": {},
     "output_type": "execute_result"
    }
   ],
   "source": [
    "from sklearn.datasets import load_boston\n",
    "\n",
    "data = load_boston()\n",
    "\n",
    "X = pd.DataFrame(data[\"data\"], columns=data[\"feature_names\"])\n",
    "y = pd.DataFrame(data[\"target\"], columns=['MEDV'])\n",
    "\n",
    "data = pd.concat([X, y], axis=1)\n",
    "data.head()"
   ]
  },
  {
   "cell_type": "markdown",
   "metadata": {},
   "source": [
    "## 1. Split this data set into training (80%) and testing (20%) sets.\n",
    "\n",
    "The `MEDV` field represents the median value of owner-occupied homes (in $1000's) and is the target variable that we will want to predict."
   ]
  },
  {
   "cell_type": "code",
   "execution_count": 3,
   "metadata": {},
   "outputs": [],
   "source": [
    "from sklearn.model_selection import train_test_split"
   ]
  },
  {
   "cell_type": "code",
   "execution_count": 4,
   "metadata": {},
   "outputs": [],
   "source": [
    "X_train, X_test, y_train, y_test = train_test_split(X, y, test_size=0.2)"
   ]
  },
  {
   "cell_type": "markdown",
   "metadata": {},
   "source": [
    "## 2. Train a `LinearRegression` model on this data set and generate predictions on both the training and the testing set."
   ]
  },
  {
   "cell_type": "code",
   "execution_count": 5,
   "metadata": {},
   "outputs": [],
   "source": [
    "from sklearn.linear_model import LinearRegression"
   ]
  },
  {
   "cell_type": "code",
   "execution_count": 6,
   "metadata": {},
   "outputs": [
    {
     "data": {
      "text/plain": [
       "0.7682373588859948"
      ]
     },
     "execution_count": 6,
     "metadata": {},
     "output_type": "execute_result"
    }
   ],
   "source": [
    "model_linearregression = LinearRegression()\n",
    "model_linearregression.fit(X_train, y_train)\n",
    "model_linearregression.score(X_test, y_test)"
   ]
  },
  {
   "cell_type": "code",
   "execution_count": 7,
   "metadata": {},
   "outputs": [
    {
     "data": {
      "text/plain": [
       "array([[31.5550899 ],\n",
       "       [22.61963283],\n",
       "       [16.79700087],\n",
       "       [29.92443293],\n",
       "       [35.04314505],\n",
       "       [34.71287559],\n",
       "       [21.50109046],\n",
       "       [18.31868547],\n",
       "       [30.85309854],\n",
       "       [24.76169396],\n",
       "       [ 3.34338002],\n",
       "       [15.986062  ],\n",
       "       [26.69158989],\n",
       "       [25.45024012],\n",
       "       [13.1297182 ],\n",
       "       [27.01524237],\n",
       "       [16.12673728],\n",
       "       [14.61068296],\n",
       "       [28.73514971],\n",
       "       [32.97461235],\n",
       "       [27.18916616],\n",
       "       [20.11464826],\n",
       "       [22.63842432],\n",
       "       [12.86913838],\n",
       "       [23.16032365],\n",
       "       [16.50996118],\n",
       "       [35.28431878],\n",
       "       [19.58550176],\n",
       "       [26.32620626],\n",
       "       [19.68269227],\n",
       "       [13.45299182],\n",
       "       [29.34995189],\n",
       "       [ 6.25502528],\n",
       "       [17.14950112],\n",
       "       [25.40415875],\n",
       "       [14.08252885],\n",
       "       [19.35358634],\n",
       "       [13.62949529],\n",
       "       [11.22397438],\n",
       "       [17.38282443],\n",
       "       [21.39651586],\n",
       "       [23.41036119],\n",
       "       [27.65239205],\n",
       "       [18.0886015 ],\n",
       "       [15.65465253],\n",
       "       [23.27150988],\n",
       "       [30.07650757],\n",
       "       [23.66271077],\n",
       "       [20.39677275],\n",
       "       [35.97430661],\n",
       "       [39.09103409],\n",
       "       [20.56880565],\n",
       "       [34.03602045],\n",
       "       [22.37241806],\n",
       "       [24.2889822 ],\n",
       "       [27.33733006],\n",
       "       [30.98534097],\n",
       "       [ 5.53108258],\n",
       "       [36.80098349],\n",
       "       [ 6.51191488],\n",
       "       [24.64819209],\n",
       "       [32.72421902],\n",
       "       [22.85137468],\n",
       "       [15.48726941],\n",
       "       [28.49775322],\n",
       "       [30.42901234],\n",
       "       [31.80045479],\n",
       "       [18.84289761],\n",
       "       [38.15314783],\n",
       "       [19.9158112 ],\n",
       "       [14.47563022],\n",
       "       [39.56031324],\n",
       "       [25.2682304 ],\n",
       "       [12.29996244],\n",
       "       [25.01063644],\n",
       "       [19.95096485],\n",
       "       [17.68596099],\n",
       "       [32.1343192 ],\n",
       "       [21.66339015],\n",
       "       [30.38280629],\n",
       "       [19.52805067],\n",
       "       [19.66447103],\n",
       "       [20.68038722],\n",
       "       [36.18717908],\n",
       "       [10.63717904],\n",
       "       [24.8348369 ],\n",
       "       [24.06310599],\n",
       "       [14.32191963],\n",
       "       [24.83010478],\n",
       "       [12.72159691],\n",
       "       [25.42673189],\n",
       "       [10.43432994],\n",
       "       [25.35407465],\n",
       "       [18.4240652 ],\n",
       "       [ 7.3462391 ],\n",
       "       [16.05334154],\n",
       "       [16.88362951],\n",
       "       [20.69369166],\n",
       "       [25.44454775],\n",
       "       [21.87359058],\n",
       "       [24.21395519],\n",
       "       [14.6870009 ],\n",
       "       [20.86617227],\n",
       "       [22.16165187],\n",
       "       [28.79527199],\n",
       "       [23.37561092],\n",
       "       [15.55328838],\n",
       "       [42.54256842],\n",
       "       [17.36507871],\n",
       "       [15.15225462],\n",
       "       [34.15068978],\n",
       "       [11.21967713],\n",
       "       [18.29049368],\n",
       "       [31.64611427],\n",
       "       [32.1395286 ],\n",
       "       [20.35790353],\n",
       "       [28.14889636],\n",
       "       [12.45369439],\n",
       "       [32.82209506],\n",
       "       [15.56147723],\n",
       "       [28.50295676],\n",
       "       [21.14581867],\n",
       "       [15.57495708],\n",
       "       [29.80241058],\n",
       "       [23.36947476],\n",
       "       [14.62899901],\n",
       "       [20.48028438],\n",
       "       [25.65565925],\n",
       "       [31.70023265],\n",
       "       [20.48504295],\n",
       "       [21.07029004],\n",
       "       [31.55451071],\n",
       "       [17.91331524],\n",
       "       [28.70851617],\n",
       "       [26.4965271 ],\n",
       "       [23.46107974],\n",
       "       [35.45015194],\n",
       "       [27.64640714],\n",
       "       [18.11359352],\n",
       "       [21.9175013 ],\n",
       "       [27.94121672],\n",
       "       [24.68254094],\n",
       "       [14.53238921],\n",
       "       [35.91360333],\n",
       "       [17.73336085],\n",
       "       [20.09813782],\n",
       "       [27.3305648 ],\n",
       "       [41.4706354 ],\n",
       "       [35.4851869 ],\n",
       "       [25.0951332 ],\n",
       "       [20.96374372],\n",
       "       [25.62645993],\n",
       "       [ 9.79075235],\n",
       "       [21.20859931],\n",
       "       [ 3.93278335],\n",
       "       [34.41204249],\n",
       "       [20.40985522],\n",
       "       [19.20194281],\n",
       "       [16.35490605],\n",
       "       [23.41130665],\n",
       "       [19.175101  ],\n",
       "       [14.01058644],\n",
       "       [10.1845821 ],\n",
       "       [21.34731744],\n",
       "       [24.74645324],\n",
       "       [27.04361608],\n",
       "       [18.2030799 ],\n",
       "       [24.5428058 ],\n",
       "       [24.78591021],\n",
       "       [33.42430721],\n",
       "       [12.95173651],\n",
       "       [29.49341906],\n",
       "       [16.98865523],\n",
       "       [23.11935314],\n",
       "       [16.5574288 ],\n",
       "       [19.47156466],\n",
       "       [25.0565516 ],\n",
       "       [16.97467243],\n",
       "       [22.92218728],\n",
       "       [23.5941853 ],\n",
       "       [21.69888361],\n",
       "       [15.20467114],\n",
       "       [26.17071688],\n",
       "       [22.39653888],\n",
       "       [19.57637974],\n",
       "       [ 6.64766797],\n",
       "       [ 8.81641385],\n",
       "       [21.07742805],\n",
       "       [14.14781794],\n",
       "       [33.15941226],\n",
       "       [27.61568892],\n",
       "       [16.20182355],\n",
       "       [33.64548977],\n",
       "       [27.0509029 ],\n",
       "       [20.99987858],\n",
       "       [20.46097747],\n",
       "       [19.97068356],\n",
       "       [11.0854257 ],\n",
       "       [32.94192154],\n",
       "       [25.08160852],\n",
       "       [19.25973694],\n",
       "       [25.52548301],\n",
       "       [18.06064206],\n",
       "       [30.50152739],\n",
       "       [17.49782623],\n",
       "       [13.54625243],\n",
       "       [32.68135358],\n",
       "       [19.22617106],\n",
       "       [ 9.5313581 ],\n",
       "       [20.05058056],\n",
       "       [24.4630384 ],\n",
       "       [33.10005819],\n",
       "       [12.41259683],\n",
       "       [17.26807065],\n",
       "       [16.85716813],\n",
       "       [ 7.95809889],\n",
       "       [39.65589658],\n",
       "       [16.8337441 ],\n",
       "       [18.80920846],\n",
       "       [20.1204358 ],\n",
       "       [26.22760604],\n",
       "       [23.77945465],\n",
       "       [24.35309797],\n",
       "       [21.64373581],\n",
       "       [19.71625443],\n",
       "       [16.70389904],\n",
       "       [ 7.77194236],\n",
       "       [21.52648947],\n",
       "       [20.50765957],\n",
       "       [33.00043321],\n",
       "       [20.27273974],\n",
       "       [24.01290776],\n",
       "       [35.24992257],\n",
       "       [34.08647567],\n",
       "       [27.98258511],\n",
       "       [20.51634677],\n",
       "       [36.04415754],\n",
       "       [29.3773632 ],\n",
       "       [22.86315877],\n",
       "       [ 8.00391853],\n",
       "       [13.40724083],\n",
       "       [11.13128689],\n",
       "       [-4.02599694],\n",
       "       [22.13463457],\n",
       "       [16.74789509],\n",
       "       [25.00351272],\n",
       "       [28.73664827],\n",
       "       [17.07686748],\n",
       "       [18.47506132],\n",
       "       [22.40108357],\n",
       "       [24.28700954],\n",
       "       [19.96079282],\n",
       "       [36.61073709],\n",
       "       [24.29089528],\n",
       "       [24.53701666],\n",
       "       [26.53458414],\n",
       "       [22.2799038 ],\n",
       "       [23.18826343],\n",
       "       [17.23091329],\n",
       "       [29.83688683],\n",
       "       [17.36975015],\n",
       "       [19.31664537],\n",
       "       [23.60294026],\n",
       "       [26.02765054],\n",
       "       [19.33532858],\n",
       "       [19.70505589],\n",
       "       [26.15164344],\n",
       "       [29.46045654],\n",
       "       [22.20742848],\n",
       "       [35.09923612],\n",
       "       [15.40160959],\n",
       "       [10.01381677],\n",
       "       [31.98582312],\n",
       "       [22.3883661 ],\n",
       "       [27.52462767],\n",
       "       [33.30663639],\n",
       "       [22.90603315],\n",
       "       [ 6.62686296],\n",
       "       [ 8.06069675],\n",
       "       [21.08190759],\n",
       "       [ 7.99902923],\n",
       "       [23.07738912],\n",
       "       [17.83334437],\n",
       "       [16.41580943],\n",
       "       [14.252282  ],\n",
       "       [27.26680465],\n",
       "       [19.34523493],\n",
       "       [ 5.89272361],\n",
       "       [20.90505059],\n",
       "       [22.68282873],\n",
       "       [25.99906818],\n",
       "       [28.72015029],\n",
       "       [24.8218364 ],\n",
       "       [13.43995676],\n",
       "       [14.27340533],\n",
       "       [20.12641944],\n",
       "       [25.26658736],\n",
       "       [16.94555353],\n",
       "       [15.78113681],\n",
       "       [30.51136134],\n",
       "       [17.24256474],\n",
       "       [31.18935162],\n",
       "       [23.95094193],\n",
       "       [11.30782678],\n",
       "       [28.55301936],\n",
       "       [20.38690812],\n",
       "       [30.937352  ],\n",
       "       [22.18281579],\n",
       "       [25.92522328],\n",
       "       [31.11140072],\n",
       "       [28.16086929],\n",
       "       [20.45937681],\n",
       "       [13.53594122],\n",
       "       [33.79280539],\n",
       "       [27.40009206],\n",
       "       [21.09884226],\n",
       "       [32.5407593 ],\n",
       "       [ 1.03700468],\n",
       "       [22.62919221],\n",
       "       [19.01981647],\n",
       "       [27.79897045],\n",
       "       [20.27027694],\n",
       "       [15.43803941],\n",
       "       [23.19124714],\n",
       "       [25.55023329],\n",
       "       [22.0857903 ],\n",
       "       [23.89900806],\n",
       "       [24.35384472],\n",
       "       [30.36839066],\n",
       "       [17.77633309],\n",
       "       [18.10838816],\n",
       "       [12.97782229],\n",
       "       [30.74762172],\n",
       "       [23.93492205],\n",
       "       [20.90100563],\n",
       "       [34.93643319],\n",
       "       [15.42564852],\n",
       "       [21.54131147],\n",
       "       [27.53147986],\n",
       "       [27.54040478],\n",
       "       [12.78422379],\n",
       "       [15.92583603],\n",
       "       [19.0992157 ],\n",
       "       [25.24485847],\n",
       "       [16.45807943],\n",
       "       [35.29709483],\n",
       "       [21.97235346],\n",
       "       [19.33425586],\n",
       "       [22.40991979],\n",
       "       [13.14435964],\n",
       "       [ 3.82699416],\n",
       "       [18.66052202],\n",
       "       [35.07973355],\n",
       "       [20.62549566],\n",
       "       [25.36404159],\n",
       "       [27.18966835],\n",
       "       [18.73248122],\n",
       "       [30.98148615],\n",
       "       [18.38512713],\n",
       "       [10.15462545],\n",
       "       [18.5304402 ],\n",
       "       [21.67173699],\n",
       "       [34.15167915],\n",
       "       [34.87898405],\n",
       "       [27.68300591],\n",
       "       [13.58513432],\n",
       "       [26.27081724],\n",
       "       [24.16328014],\n",
       "       [21.32911066],\n",
       "       [19.33266246],\n",
       "       [28.40964811],\n",
       "       [25.77213511],\n",
       "       [16.73183475],\n",
       "       [20.58814438],\n",
       "       [17.14179932],\n",
       "       [ 8.19423654],\n",
       "       [17.46363184],\n",
       "       [23.63011807],\n",
       "       [22.53679438],\n",
       "       [31.81371039],\n",
       "       [22.35998078],\n",
       "       [28.30555892],\n",
       "       [19.12438254],\n",
       "       [21.22778415],\n",
       "       [30.15389202],\n",
       "       [12.98231725],\n",
       "       [27.82627438],\n",
       "       [19.4241923 ],\n",
       "       [21.25919285],\n",
       "       [37.27915093],\n",
       "       [ 8.59230951],\n",
       "       [17.06257418],\n",
       "       [23.86653302],\n",
       "       [14.51552274],\n",
       "       [22.99613154],\n",
       "       [36.51698641],\n",
       "       [24.22523521],\n",
       "       [25.59451617],\n",
       "       [13.50625457],\n",
       "       [17.13200736],\n",
       "       [29.27743139],\n",
       "       [34.70804945],\n",
       "       [17.36372439],\n",
       "       [16.92992622]])"
      ]
     },
     "execution_count": 7,
     "metadata": {},
     "output_type": "execute_result"
    }
   ],
   "source": [
    "y_pred = model_linearregression.predict(X_train)\n",
    "y_pred"
   ]
  },
  {
   "cell_type": "code",
   "execution_count": 8,
   "metadata": {},
   "outputs": [
    {
     "data": {
      "text/plain": [
       "array([[24.63119067],\n",
       "       [19.94640662],\n",
       "       [13.60639827],\n",
       "       [21.71202198],\n",
       "       [21.72201334],\n",
       "       [16.71194821],\n",
       "       [23.0564318 ],\n",
       "       [20.54159517],\n",
       "       [26.01746758],\n",
       "       [32.87760001],\n",
       "       [26.99224377],\n",
       "       [37.1722166 ],\n",
       "       [22.20793989],\n",
       "       [18.39695899],\n",
       "       [13.62910034],\n",
       "       [17.54461566],\n",
       "       [16.91069299],\n",
       "       [12.10065507],\n",
       "       [14.06126201],\n",
       "       [28.59251693],\n",
       "       [20.14498982],\n",
       "       [29.0566934 ],\n",
       "       [22.62299956],\n",
       "       [32.00285469],\n",
       "       [24.85753518],\n",
       "       [27.30944421],\n",
       "       [28.4842621 ],\n",
       "       [34.77642819],\n",
       "       [20.20450354],\n",
       "       [25.14500977],\n",
       "       [29.69975415],\n",
       "       [29.65090809],\n",
       "       [11.74333161],\n",
       "       [16.85060155],\n",
       "       [21.96651141],\n",
       "       [17.11999306],\n",
       "       [12.44974119],\n",
       "       [32.71616528],\n",
       "       [24.44534101],\n",
       "       [17.31798113],\n",
       "       [18.18776538],\n",
       "       [33.7233895 ],\n",
       "       [18.41642073],\n",
       "       [22.63160716],\n",
       "       [38.62973223],\n",
       "       [33.82947258],\n",
       "       [20.19032211],\n",
       "       [37.81131795],\n",
       "       [32.59431991],\n",
       "       [32.66250848],\n",
       "       [25.83778843],\n",
       "       [20.96417931],\n",
       "       [23.0258134 ],\n",
       "       [17.79215745],\n",
       "       [17.14566425],\n",
       "       [18.56020593],\n",
       "       [21.89064249],\n",
       "       [13.29936261],\n",
       "       [31.17554476],\n",
       "       [30.12995772],\n",
       "       [12.56113325],\n",
       "       [29.36769301],\n",
       "       [22.91795262],\n",
       "       [23.78379496],\n",
       "       [28.88534138],\n",
       "       [ 7.73573958],\n",
       "       [18.87510381],\n",
       "       [36.56828999],\n",
       "       [18.25503831],\n",
       "       [25.28943007],\n",
       "       [18.78572885],\n",
       "       [ 8.51845578],\n",
       "       [19.80409463],\n",
       "       [16.02459967],\n",
       "       [40.12433589],\n",
       "       [22.44727122],\n",
       "       [43.89956804],\n",
       "       [19.92038601],\n",
       "       [39.13871649],\n",
       "       [26.13194228],\n",
       "       [14.14051551],\n",
       "       [22.68266558],\n",
       "       [21.21380406],\n",
       "       [13.75316978],\n",
       "       [13.71974963],\n",
       "       [36.02773082],\n",
       "       [34.48697135],\n",
       "       [ 2.08766603],\n",
       "       [15.59746617],\n",
       "       [19.87892103],\n",
       "       [31.68689866],\n",
       "       [25.43945283],\n",
       "       [34.67174061],\n",
       "       [40.30620914],\n",
       "       [19.26164622],\n",
       "       [ 3.52668214],\n",
       "       [41.31151839],\n",
       "       [23.63022772],\n",
       "       [26.72463679],\n",
       "       [23.94287215],\n",
       "       [29.96124561],\n",
       "       [ 7.15892997]])"
      ]
     },
     "execution_count": 8,
     "metadata": {},
     "output_type": "execute_result"
    }
   ],
   "source": [
    "y_pred_test = model_linearregression.predict(X_test)\n",
    "y_pred_test"
   ]
  },
  {
   "cell_type": "markdown",
   "metadata": {},
   "source": [
    "## 3. Calculate and print R-squared for both the training and the testing set."
   ]
  },
  {
   "cell_type": "code",
   "execution_count": 9,
   "metadata": {},
   "outputs": [],
   "source": [
    "from sklearn.metrics import r2_score"
   ]
  },
  {
   "cell_type": "code",
   "execution_count": 10,
   "metadata": {},
   "outputs": [
    {
     "data": {
      "text/plain": [
       "0.7249117333063013"
      ]
     },
     "execution_count": 10,
     "metadata": {},
     "output_type": "execute_result"
    }
   ],
   "source": [
    "r2_score(y_train,y_pred)"
   ]
  },
  {
   "cell_type": "code",
   "execution_count": 11,
   "metadata": {},
   "outputs": [
    {
     "data": {
      "text/plain": [
       "0.7682373588859948"
      ]
     },
     "execution_count": 11,
     "metadata": {},
     "output_type": "execute_result"
    }
   ],
   "source": [
    "r2_score(y_test,y_pred_test)"
   ]
  },
  {
   "cell_type": "markdown",
   "metadata": {},
   "source": [
    "## 4. Calculate and print mean squared error for both the training and the testing set."
   ]
  },
  {
   "cell_type": "code",
   "execution_count": 12,
   "metadata": {},
   "outputs": [],
   "source": [
    "from sklearn.metrics import mean_squared_error"
   ]
  },
  {
   "cell_type": "code",
   "execution_count": 13,
   "metadata": {},
   "outputs": [
    {
     "data": {
      "text/plain": [
       "21.779250847730086"
      ]
     },
     "execution_count": 13,
     "metadata": {},
     "output_type": "execute_result"
    }
   ],
   "source": [
    "mean_squared_error(y_train, y_pred)"
   ]
  },
  {
   "cell_type": "code",
   "execution_count": 14,
   "metadata": {},
   "outputs": [
    {
     "data": {
      "text/plain": [
       "23.916359478691252"
      ]
     },
     "execution_count": 14,
     "metadata": {},
     "output_type": "execute_result"
    }
   ],
   "source": [
    "mean_squared_error(y_test, y_pred_test)"
   ]
  },
  {
   "cell_type": "markdown",
   "metadata": {},
   "source": [
    "## 5. Calculate and print mean absolute error for both the training and the testing set."
   ]
  },
  {
   "cell_type": "code",
   "execution_count": 15,
   "metadata": {},
   "outputs": [],
   "source": [
    "from sklearn.metrics import mean_absolute_error"
   ]
  },
  {
   "cell_type": "code",
   "execution_count": 16,
   "metadata": {},
   "outputs": [
    {
     "data": {
      "text/plain": [
       "3.249352769431367"
      ]
     },
     "execution_count": 16,
     "metadata": {},
     "output_type": "execute_result"
    }
   ],
   "source": [
    "mean_absolute_error(y_train, y_pred)"
   ]
  },
  {
   "cell_type": "code",
   "execution_count": 17,
   "metadata": {},
   "outputs": [
    {
     "data": {
      "text/plain": [
       "3.6492729841157696"
      ]
     },
     "execution_count": 17,
     "metadata": {},
     "output_type": "execute_result"
    }
   ],
   "source": [
    "mean_absolute_error(y_test, y_pred_test)"
   ]
  },
  {
   "cell_type": "markdown",
   "metadata": {},
   "source": [
    "## Classification Model Evaluation"
   ]
  },
  {
   "cell_type": "code",
   "execution_count": 18,
   "metadata": {},
   "outputs": [
    {
     "data": {
      "text/html": [
       "<div>\n",
       "<style scoped>\n",
       "    .dataframe tbody tr th:only-of-type {\n",
       "        vertical-align: middle;\n",
       "    }\n",
       "\n",
       "    .dataframe tbody tr th {\n",
       "        vertical-align: top;\n",
       "    }\n",
       "\n",
       "    .dataframe thead th {\n",
       "        text-align: right;\n",
       "    }\n",
       "</style>\n",
       "<table border=\"1\" class=\"dataframe\">\n",
       "  <thead>\n",
       "    <tr style=\"text-align: right;\">\n",
       "      <th></th>\n",
       "      <th>sepal length (cm)</th>\n",
       "      <th>sepal width (cm)</th>\n",
       "      <th>petal length (cm)</th>\n",
       "      <th>petal width (cm)</th>\n",
       "      <th>class</th>\n",
       "    </tr>\n",
       "  </thead>\n",
       "  <tbody>\n",
       "    <tr>\n",
       "      <th>0</th>\n",
       "      <td>5.1</td>\n",
       "      <td>3.5</td>\n",
       "      <td>1.4</td>\n",
       "      <td>0.2</td>\n",
       "      <td>0</td>\n",
       "    </tr>\n",
       "    <tr>\n",
       "      <th>1</th>\n",
       "      <td>4.9</td>\n",
       "      <td>3.0</td>\n",
       "      <td>1.4</td>\n",
       "      <td>0.2</td>\n",
       "      <td>0</td>\n",
       "    </tr>\n",
       "    <tr>\n",
       "      <th>2</th>\n",
       "      <td>4.7</td>\n",
       "      <td>3.2</td>\n",
       "      <td>1.3</td>\n",
       "      <td>0.2</td>\n",
       "      <td>0</td>\n",
       "    </tr>\n",
       "    <tr>\n",
       "      <th>3</th>\n",
       "      <td>4.6</td>\n",
       "      <td>3.1</td>\n",
       "      <td>1.5</td>\n",
       "      <td>0.2</td>\n",
       "      <td>0</td>\n",
       "    </tr>\n",
       "    <tr>\n",
       "      <th>4</th>\n",
       "      <td>5.0</td>\n",
       "      <td>3.6</td>\n",
       "      <td>1.4</td>\n",
       "      <td>0.2</td>\n",
       "      <td>0</td>\n",
       "    </tr>\n",
       "  </tbody>\n",
       "</table>\n",
       "</div>"
      ],
      "text/plain": [
       "   sepal length (cm)  sepal width (cm)  petal length (cm)  petal width (cm)  \\\n",
       "0                5.1               3.5                1.4               0.2   \n",
       "1                4.9               3.0                1.4               0.2   \n",
       "2                4.7               3.2                1.3               0.2   \n",
       "3                4.6               3.1                1.5               0.2   \n",
       "4                5.0               3.6                1.4               0.2   \n",
       "\n",
       "   class  \n",
       "0      0  \n",
       "1      0  \n",
       "2      0  \n",
       "3      0  \n",
       "4      0  "
      ]
     },
     "execution_count": 18,
     "metadata": {},
     "output_type": "execute_result"
    }
   ],
   "source": [
    "from sklearn.datasets import load_iris\n",
    "\n",
    "data = load_iris()\n",
    "\n",
    "X = pd.DataFrame(data[\"data\"], columns=data[\"feature_names\"])\n",
    "y = pd.DataFrame(data[\"target\"], columns=[\"class\"])\n",
    "\n",
    "data = pd.concat([X, y], axis=1)\n",
    "data.head()"
   ]
  },
  {
   "cell_type": "markdown",
   "metadata": {},
   "source": [
    "## 6. Split this data set into training (80%) and testing (20%) sets.\n",
    "\n",
    "The `class` field represents the type of flower and is the target variable that we will want to predict."
   ]
  },
  {
   "cell_type": "code",
   "execution_count": 19,
   "metadata": {},
   "outputs": [],
   "source": [
    "X_train, X_test, y_train, y_test = train_test_split(X, y, test_size=0.2)"
   ]
  },
  {
   "cell_type": "markdown",
   "metadata": {},
   "source": [
    "## 7. Train a `LogisticRegression` model on this data set and generate predictions on both the training and the testing set."
   ]
  },
  {
   "cell_type": "code",
   "execution_count": 20,
   "metadata": {},
   "outputs": [],
   "source": [
    "from sklearn.linear_model import LogisticRegression"
   ]
  },
  {
   "cell_type": "code",
   "execution_count": 21,
   "metadata": {},
   "outputs": [],
   "source": [
    "model_logisticregression = LogisticRegression()"
   ]
  },
  {
   "cell_type": "code",
   "execution_count": 22,
   "metadata": {},
   "outputs": [
    {
     "name": "stderr",
     "output_type": "stream",
     "text": [
      "C:\\Users\\rsher\\anaconda3\\lib\\site-packages\\sklearn\\utils\\validation.py:760: DataConversionWarning: A column-vector y was passed when a 1d array was expected. Please change the shape of y to (n_samples, ), for example using ravel().\n",
      "  y = column_or_1d(y, warn=True)\n"
     ]
    },
    {
     "data": {
      "text/plain": [
       "0.9333333333333333"
      ]
     },
     "execution_count": 22,
     "metadata": {},
     "output_type": "execute_result"
    }
   ],
   "source": [
    "model_logisticregression.fit(X_train, y_train)\n",
    "model_logisticregression.score(X_test, y_test)"
   ]
  },
  {
   "cell_type": "code",
   "execution_count": 23,
   "metadata": {},
   "outputs": [],
   "source": [
    "y_pred = model_logisticregression.predict(X_train)\n",
    "y_pred_test = model_logisticregression.predict(X_test)"
   ]
  },
  {
   "cell_type": "markdown",
   "metadata": {},
   "source": [
    "## 8. Calculate and print the accuracy score for both the training and the testing set."
   ]
  },
  {
   "cell_type": "code",
   "execution_count": 24,
   "metadata": {},
   "outputs": [],
   "source": [
    "from sklearn.metrics import accuracy_score"
   ]
  },
  {
   "cell_type": "code",
   "execution_count": 25,
   "metadata": {},
   "outputs": [
    {
     "data": {
      "text/plain": [
       "0.9833333333333333"
      ]
     },
     "execution_count": 25,
     "metadata": {},
     "output_type": "execute_result"
    }
   ],
   "source": [
    "accuracy_score(y_train, y_pred)"
   ]
  },
  {
   "cell_type": "code",
   "execution_count": 26,
   "metadata": {},
   "outputs": [
    {
     "data": {
      "text/plain": [
       "0.9333333333333333"
      ]
     },
     "execution_count": 26,
     "metadata": {},
     "output_type": "execute_result"
    }
   ],
   "source": [
    "accuracy_score(y_test, y_pred_test)"
   ]
  },
  {
   "cell_type": "markdown",
   "metadata": {},
   "source": [
    "## 9. Calculate and print the balanced accuracy score for both the training and the testing set."
   ]
  },
  {
   "cell_type": "code",
   "execution_count": 27,
   "metadata": {},
   "outputs": [],
   "source": [
    "from sklearn.metrics import balanced_accuracy_score"
   ]
  },
  {
   "cell_type": "code",
   "execution_count": 28,
   "metadata": {},
   "outputs": [
    {
     "data": {
      "text/plain": [
       "0.982905982905983"
      ]
     },
     "execution_count": 28,
     "metadata": {},
     "output_type": "execute_result"
    }
   ],
   "source": [
    "balanced_accuracy_score(y_train, y_pred)"
   ]
  },
  {
   "cell_type": "code",
   "execution_count": 29,
   "metadata": {},
   "outputs": [
    {
     "data": {
      "text/plain": [
       "0.9363636363636364"
      ]
     },
     "execution_count": 29,
     "metadata": {},
     "output_type": "execute_result"
    }
   ],
   "source": [
    "balanced_accuracy_score(y_test, y_pred_test)"
   ]
  },
  {
   "cell_type": "markdown",
   "metadata": {},
   "source": [
    "## 10. Calculate and print the precision score for both the training and the testing set."
   ]
  },
  {
   "cell_type": "code",
   "execution_count": 30,
   "metadata": {},
   "outputs": [],
   "source": [
    "from sklearn.metrics import precision_score"
   ]
  },
  {
   "cell_type": "code",
   "execution_count": 31,
   "metadata": {},
   "outputs": [
    {
     "data": {
      "text/plain": [
       "0.9833333333333333"
      ]
     },
     "execution_count": 31,
     "metadata": {},
     "output_type": "execute_result"
    }
   ],
   "source": [
    "precision_score(y_train, y_pred, average=\"micro\")"
   ]
  },
  {
   "cell_type": "code",
   "execution_count": 32,
   "metadata": {},
   "outputs": [
    {
     "data": {
      "text/plain": [
       "0.9333333333333333"
      ]
     },
     "execution_count": 32,
     "metadata": {},
     "output_type": "execute_result"
    }
   ],
   "source": [
    "precision_score(y_test, y_pred_test, average=\"micro\")"
   ]
  },
  {
   "cell_type": "code",
   "execution_count": 33,
   "metadata": {},
   "outputs": [
    {
     "data": {
      "text/plain": [
       "0.9841269841269842"
      ]
     },
     "execution_count": 33,
     "metadata": {},
     "output_type": "execute_result"
    }
   ],
   "source": [
    "precision_score(y_train, y_pred, average=\"macro\")"
   ]
  },
  {
   "cell_type": "code",
   "execution_count": 34,
   "metadata": {},
   "outputs": [
    {
     "data": {
      "text/plain": [
       "0.9363636363636364"
      ]
     },
     "execution_count": 34,
     "metadata": {},
     "output_type": "execute_result"
    }
   ],
   "source": [
    "precision_score(y_test, y_pred_test, average=\"macro\")"
   ]
  },
  {
   "cell_type": "code",
   "execution_count": 35,
   "metadata": {},
   "outputs": [
    {
     "data": {
      "text/plain": [
       "0.9841269841269842"
      ]
     },
     "execution_count": 35,
     "metadata": {},
     "output_type": "execute_result"
    }
   ],
   "source": [
    "precision_score(y_train, y_pred, average=\"weighted\")"
   ]
  },
  {
   "cell_type": "code",
   "execution_count": 36,
   "metadata": {},
   "outputs": [
    {
     "data": {
      "text/plain": [
       "0.9333333333333333"
      ]
     },
     "execution_count": 36,
     "metadata": {},
     "output_type": "execute_result"
    }
   ],
   "source": [
    "precision_score(y_test, y_pred_test, average=\"weighted\")"
   ]
  },
  {
   "cell_type": "markdown",
   "metadata": {},
   "source": [
    "## 11. Calculate and print the recall score for both the training and the testing set."
   ]
  },
  {
   "cell_type": "code",
   "execution_count": 37,
   "metadata": {},
   "outputs": [],
   "source": [
    "from sklearn.metrics import recall_score"
   ]
  },
  {
   "cell_type": "code",
   "execution_count": 38,
   "metadata": {},
   "outputs": [
    {
     "data": {
      "text/plain": [
       "0.9833333333333333"
      ]
     },
     "execution_count": 38,
     "metadata": {},
     "output_type": "execute_result"
    }
   ],
   "source": [
    "recall_score(y_train, y_pred, average=\"micro\")"
   ]
  },
  {
   "cell_type": "code",
   "execution_count": 39,
   "metadata": {},
   "outputs": [
    {
     "data": {
      "text/plain": [
       "0.9333333333333333"
      ]
     },
     "execution_count": 39,
     "metadata": {},
     "output_type": "execute_result"
    }
   ],
   "source": [
    "recall_score(y_test, y_pred_test, average=\"micro\")"
   ]
  },
  {
   "cell_type": "code",
   "execution_count": 40,
   "metadata": {},
   "outputs": [
    {
     "data": {
      "text/plain": [
       "0.982905982905983"
      ]
     },
     "execution_count": 40,
     "metadata": {},
     "output_type": "execute_result"
    }
   ],
   "source": [
    "recall_score(y_train, y_pred, average=\"macro\")"
   ]
  },
  {
   "cell_type": "code",
   "execution_count": 41,
   "metadata": {},
   "outputs": [
    {
     "data": {
      "text/plain": [
       "0.9363636363636364"
      ]
     },
     "execution_count": 41,
     "metadata": {},
     "output_type": "execute_result"
    }
   ],
   "source": [
    "recall_score(y_test, y_pred_test, average=\"macro\")"
   ]
  },
  {
   "cell_type": "code",
   "execution_count": 42,
   "metadata": {},
   "outputs": [
    {
     "data": {
      "text/plain": [
       "0.9833333333333333"
      ]
     },
     "execution_count": 42,
     "metadata": {},
     "output_type": "execute_result"
    }
   ],
   "source": [
    "recall_score(y_train, y_pred, average=\"weighted\")"
   ]
  },
  {
   "cell_type": "code",
   "execution_count": 43,
   "metadata": {},
   "outputs": [
    {
     "data": {
      "text/plain": [
       "0.9333333333333333"
      ]
     },
     "execution_count": 43,
     "metadata": {},
     "output_type": "execute_result"
    }
   ],
   "source": [
    "recall_score(y_test, y_pred_test, average=\"weighted\")"
   ]
  },
  {
   "cell_type": "markdown",
   "metadata": {},
   "source": [
    "## 12. Calculate and print the F1 score for both the training and the testing set."
   ]
  },
  {
   "cell_type": "code",
   "execution_count": 44,
   "metadata": {},
   "outputs": [],
   "source": [
    "from sklearn.metrics import f1_score"
   ]
  },
  {
   "cell_type": "code",
   "execution_count": 45,
   "metadata": {},
   "outputs": [
    {
     "data": {
      "text/plain": [
       "0.9833333333333333"
      ]
     },
     "execution_count": 45,
     "metadata": {},
     "output_type": "execute_result"
    }
   ],
   "source": [
    "f1_score(y_train, y_pred, average=\"micro\")"
   ]
  },
  {
   "cell_type": "code",
   "execution_count": 46,
   "metadata": {},
   "outputs": [
    {
     "data": {
      "text/plain": [
       "0.9333333333333333"
      ]
     },
     "execution_count": 46,
     "metadata": {},
     "output_type": "execute_result"
    }
   ],
   "source": [
    "f1_score(y_test, y_pred_test, average=\"micro\")"
   ]
  },
  {
   "cell_type": "code",
   "execution_count": 47,
   "metadata": {},
   "outputs": [
    {
     "data": {
      "text/plain": [
       "0.9830979888746256"
      ]
     },
     "execution_count": 47,
     "metadata": {},
     "output_type": "execute_result"
    }
   ],
   "source": [
    "f1_score(y_train, y_pred, average=\"macro\")"
   ]
  },
  {
   "cell_type": "code",
   "execution_count": 48,
   "metadata": {},
   "outputs": [
    {
     "data": {
      "text/plain": [
       "0.9363636363636364"
      ]
     },
     "execution_count": 48,
     "metadata": {},
     "output_type": "execute_result"
    }
   ],
   "source": [
    "f1_score(y_test, y_pred_test, average=\"macro\")"
   ]
  },
  {
   "cell_type": "code",
   "execution_count": 49,
   "metadata": {},
   "outputs": [
    {
     "data": {
      "text/plain": [
       "0.9833172871202396"
      ]
     },
     "execution_count": 49,
     "metadata": {},
     "output_type": "execute_result"
    }
   ],
   "source": [
    "f1_score(y_train, y_pred, average=\"weighted\")"
   ]
  },
  {
   "cell_type": "code",
   "execution_count": 50,
   "metadata": {},
   "outputs": [
    {
     "data": {
      "text/plain": [
       "0.9333333333333333"
      ]
     },
     "execution_count": 50,
     "metadata": {},
     "output_type": "execute_result"
    }
   ],
   "source": [
    "f1_score(y_test, y_pred_test, average=\"weighted\")"
   ]
  },
  {
   "cell_type": "markdown",
   "metadata": {},
   "source": [
    "## 13. Generate confusion matrices for both the training and the testing set."
   ]
  },
  {
   "cell_type": "code",
   "execution_count": 51,
   "metadata": {},
   "outputs": [],
   "source": [
    "from sklearn.metrics import confusion_matrix\n",
    "from sklearn.metrics import plot_confusion_matrix"
   ]
  },
  {
   "cell_type": "code",
   "execution_count": 52,
   "metadata": {},
   "outputs": [
    {
     "data": {
      "text/plain": [
       "<sklearn.metrics._plot.confusion_matrix.ConfusionMatrixDisplay at 0x273967db448>"
      ]
     },
     "execution_count": 52,
     "metadata": {},
     "output_type": "execute_result"
    },
    {
     "data": {
      "image/png": "[encoded data removed]",
      "text/plain": [
       "<Figure size 432x288 with 2 Axes>"
      ]
     },
     "metadata": {
      "needs_background": "light"
     },
     "output_type": "display_data"
    }
   ],
   "source": [
    "plot_confusion_matrix(model_logisticregression,X_test, y_test)"
   ]
  },
  {
   "cell_type": "markdown",
   "metadata": {},
   "source": [
    "## Bonus: For each of the data sets in this lab, try training with some of the other models you have learned about, recalculate the evaluation metrics, and compare to determine which models perform best on each data set."
   ]
  }
 ],
 "metadata": {
  "kernelspec": {
   "display_name": "Python 3",
   "language": "python",
   "name": "python3"
  },
  "language_info": {
   "codemirror_mode": {
    "name": "ipython",
    "version": 3
   },
   "file_extension": ".py",
   "mimetype": "text/x-python",
   "name": "python",
   "nbconvert_exporter": "python",
   "pygments_lexer": "ipython3",
   "version": "3.7.6"
  }
 },
 "nbformat": 4,
 "nbformat_minor": 2
}
